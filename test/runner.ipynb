{
 "cells": [
  {
   "cell_type": "markdown",
   "metadata": {},
   "source": [
    "# Importing the necessary libraries"
   ]
  },
  {
   "cell_type": "code",
   "execution_count": 2,
   "metadata": {},
   "outputs": [],
   "source": [
    "from google import generativeai\n",
    "\n",
    "from dataclasses import dataclass\n",
    "from dotenv import load_dotenv\n",
    "from enum import Enum"
   ]
  },
  {
   "cell_type": "markdown",
   "metadata": {},
   "source": [
    "# Input Schemas and Enumerations"
   ]
  },
  {
   "cell_type": "code",
   "execution_count": 3,
   "metadata": {},
   "outputs": [],
   "source": [
    "class TimeRangeEnum(Enum):\n",
    "    Days = 'Days'\n",
    "    Months = 'Months'\n",
    "    Years = 'Years'\n",
    "    Weeks = 'Weeks'\n",
    "    Hours = 'Hours'\n",
    "\n",
    "    @classmethod\n",
    "    def from_value(cls, value):\n",
    "        for member in cls:\n",
    "            if member.value == value:\n",
    "                return member\n",
    "        raise ValueError(f\"Invalid EducationLevel: {value}\")\n",
    "\n",
    "class EducationLevel(Enum):\n",
    "    School = 'School'\n",
    "    UnderGraduate = \"UG\"\n",
    "    PostGraduate = \"PG\"\n",
    "    PHD = \"PHD\"\n",
    "    CompetitiveExam = 'CompetitiveExam'\n",
    "    SelfStudy = 'SelfStudy'\n",
    "\n",
    "    @classmethod\n",
    "    def from_value(cls, value):\n",
    "        for member in cls:\n",
    "            if member.value == value:\n",
    "                return member\n",
    "        raise ValueError(f\"Invalid EducationLevel: {value}\")\n",
    "\n",
    "\n",
    "class StudyTime(Enum):\n",
    "    Morning = \"Morning\"\n",
    "    Afternoon = \"Afternoon\"\n",
    "    Evening = \"Evening\"\n",
    "    Night = \"Night\"\n",
    "\n",
    "    @classmethod\n",
    "    def from_value(cls, value):\n",
    "        for member in cls:\n",
    "            if member.value == value:\n",
    "                return member\n",
    "        raise ValueError(f\"Invalid EducationLevel: {value}\")\n",
    "\n",
    "class PriorKnowledge(Enum):\n",
    "    Beginner = \"Beginner\"\n",
    "    Intermediate = \"Intermediate\"\n",
    "    Advanced = \"Advanced\"\n",
    "\n",
    "    @classmethod\n",
    "    def from_value(cls, value):\n",
    "        for member in cls:\n",
    "            if member.value == value:\n",
    "                return member\n",
    "        raise ValueError(f\"Invalid EducationLevel: {value}\")\n",
    "\n",
    "class PreferredStudyMethods(Enum):\n",
    "    VideoLectures = \"VideoLectures\"\n",
    "    Reading = \"Reading\"\n",
    "    PracticeTests = \"PracticeTests\"\n",
    "    FlashCards = \"FlashCards\"\n",
    "\n",
    "    @classmethod\n",
    "    def from_value(cls, value):\n",
    "        for member in cls:\n",
    "            if member.value == value:\n",
    "                return member\n",
    "        raise ValueError(f\"Invalid EducationLevel: {value}\")\n",
    "\n",
    "class RevisionFrequency(Enum):\n",
    "    Daily = \"Daily\"\n",
    "    Weekly = \"Weekly\"\n",
    "    BeforeExam = \"BeforeExam\"\n",
    "\n",
    "    @classmethod\n",
    "    def from_value(cls, value):\n",
    "        for member in cls:\n",
    "            if member.value == value:\n",
    "                return member\n",
    "        raise ValueError(f\"Invalid EducationLevel: {value}\")\n",
    "\n",
    "class BreakPreferences(Enum):\n",
    "    Pomodoro = \"POMODORO\"\n",
    "    FiftyTwoSeventeen = \"FIFTY_TWO_SEVENTEEN\"\n",
    "    NinetyMinuteCycle = \"NINETY_MINUTE_CYCLE\"\n",
    "    SixtyTen = \"SIXTY_TEN\"\n",
    "    Flowtime = \"FLOWTIME\"\n",
    "    TwoDayRule = \"TWO_DAY_RULE\"\n",
    "    ReversePomodoro = \"REVERSE_POMODORO\"\n",
    "\n",
    "    @classmethod\n",
    "    def from_value(cls, value):\n",
    "        for member in cls:\n",
    "            if member.value == value:\n",
    "                return member\n",
    "        raise ValueError(f\"Invalid EducationLevel: {value}\")\n",
    "\n",
    "# Dataclass for user input\n",
    "@dataclass\n",
    "class PromptTypes:\n",
    "    timelimit: TimeRangeEnum\n",
    "    education: EducationLevel\n",
    "    age: int\n",
    "    studyHours: int\n",
    "    studytime: StudyTime\n",
    "    prior: PriorKnowledge\n",
    "    examdate: str\n",
    "    exam: str\n",
    "    method: PreferredStudyMethods\n",
    "    revision: RevisionFrequency\n",
    "    breaks: BreakPreferences\n",
    "    availablehoursinWeekend: str"
   ]
  },
  {
   "cell_type": "markdown",
   "metadata": {},
   "source": [
    "# Output Schemas"
   ]
  },
  {
   "cell_type": "code",
   "execution_count": null,
   "metadata": {},
   "outputs": [],
   "source": []
  },
  {
   "cell_type": "markdown",
   "metadata": {},
   "source": [
    "# Prompt Design with Gemini"
   ]
  },
  {
   "cell_type": "code",
   "execution_count": 26,
   "metadata": {},
   "outputs": [],
   "source": [
    "class PromptGenerator:\n",
    "    def __init__(self, prompt : PromptTypes) -> None:\n",
    "        self.prompt = prompt\n",
    "\n",
    "    def generate_prompt(self) -> str:\n",
    "        return self.prompt['timelimit']"
   ]
  },
  {
   "cell_type": "code",
   "execution_count": 27,
   "metadata": {},
   "outputs": [
    {
     "name": "stdout",
     "output_type": "stream",
     "text": [
      "Months\n"
     ]
    }
   ],
   "source": [
    "prompt = {\n",
    "  \"timelimit\": \"Months\",\n",
    "  \"education\": \"UG\",\n",
    "  \"age\": 22,\n",
    "  \"studyHours\": 4,\n",
    "  \"studytime\": \"Evening\",\n",
    "  \"prior\": \"Intermediate\",\n",
    "  \"examdate\": \"2025-06-15\",\n",
    "  \"exam\": \"GRE\",\n",
    "  \"method\": \"VideoLectures\",\n",
    "  \"revision\": \"Weekly\",\n",
    "  \"breaks\": \"POMODORO\",\n",
    "  \"availablehoursinWeekend\": \"6\"\n",
    "}\n",
    "\n",
    "gen_prompt = PromptGenerator(prompt)\n",
    "print(gen_prompt.generate_prompt())  # Ensure this runs correctly"
   ]
  },
  {
   "cell_type": "code",
   "execution_count": 28,
   "metadata": {},
   "outputs": [
    {
     "name": "stdout",
     "output_type": "stream",
     "text": [
      "Months\n"
     ]
    }
   ],
   "source": [
    "print(gen_prompt.generate_prompt())"
   ]
  },
  {
   "cell_type": "code",
   "execution_count": null,
   "metadata": {},
   "outputs": [],
   "source": []
  }
 ],
 "metadata": {
  "kernelspec": {
   "display_name": "planner",
   "language": "python",
   "name": "python3"
  },
  "language_info": {
   "codemirror_mode": {
    "name": "ipython",
    "version": 3
   },
   "file_extension": ".py",
   "mimetype": "text/x-python",
   "name": "python",
   "nbconvert_exporter": "python",
   "pygments_lexer": "ipython3",
   "version": "3.11.1"
  }
 },
 "nbformat": 4,
 "nbformat_minor": 2
}
