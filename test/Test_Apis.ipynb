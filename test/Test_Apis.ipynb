{
  "cells": [
    {
      "cell_type": "code",
      "execution_count": 1,
      "metadata": {
        "colab": {
          "base_uri": "https://localhost:8080/"
        },
        "id": "_9hMWmaktiYb",
        "outputId": "2868b9d4-6151-4068-b272-0f108187e330"
      },
      "outputs": [
        {
          "name": "stderr",
          "output_type": "stream",
          "text": [
            "/usr/local/lib/python3.11/dist-packages/pydantic/_internal/_generate_schema.py:502: UserWarning: <built-in function any> is not a Python type (it may be an instance of an object), Pydantic will allow any object with no validation since we cannot even enforce that the input is an instance of the given type. To get rid of this error wrap the type with `pydantic.SkipValidation`.\n",
            "  warn(\n"
          ]
        }
      ],
      "source": [
        "from google import genai\n",
        "from pydantic import BaseModel, TypeAdapter\n",
        "from google.colab import userdata"
      ]
    },
    {
      "cell_type": "code",
      "execution_count": 2,
      "metadata": {
        "id": "JfeXX0V8xSw8"
      },
      "outputs": [],
      "source": [
        "class Task(BaseModel):\n",
        "  task : str\n",
        "  time : str\n",
        "  description : str\n",
        "\n",
        "class Assignment(BaseModel):\n",
        "  assignment : str\n",
        "  time : str\n",
        "  assignmentType : str\n",
        "  description : str\n",
        "\n",
        "class Timetable(BaseModel):\n",
        "  day: str\n",
        "  topic : str\n",
        "  tasks : list[Task]\n",
        "  assignments : list[Assignment]"
      ]
    },
    {
      "cell_type": "code",
      "execution_count": 3,
      "metadata": {
        "id": "3Iynl6JWu7KM"
      },
      "outputs": [],
      "source": [
        "gemini_key = userdata.get(\n",
        "    'GOOGLE_API_KEY'\n",
        ")\n",
        "client = genai.Client(api_key=gemini_key)"
      ]
    },
    {
      "cell_type": "code",
      "execution_count": 4,
      "metadata": {
        "id": "QoQfDmBivHx7"
      },
      "outputs": [],
      "source": [
        "config={\n",
        "        'response_mime_type': 'application/json',\n",
        "        'response_schema': list[Timetable],\n",
        "    }"
      ]
    },
    {
      "cell_type": "code",
      "execution_count": 5,
      "metadata": {
        "id": "UVmY5ZURzJXV"
      },
      "outputs": [],
      "source": [
        "prompt = \"Generate a structured study plan for a student for the specified time range with proper schema,the study plan is for a 22 year old UG student, who is training for GRE which is to be completed within 2025-06-15, he has Intermediate level of knowledge in the subject and the subject is Data Science and he is very fond of learning through POMODORO technique and he likes to revises about the Weekly and he has 4 of studying hours daily and for the weekends he has about 6 hours for studying in the weekend, he studies mostly in the Evening and his method of study is VideoLectures\""
      ]
    },
    {
      "cell_type": "code",
      "execution_count": 6,
      "metadata": {
        "id": "2T_WeuS6wXdE"
      },
      "outputs": [],
      "source": [
        "response = client.models.generate_content(\n",
        "    model='gemini-2.0-flash',\n",
        "    contents=prompt,\n",
        "    config=config,\n",
        ")"
      ]
    },
    {
      "cell_type": "code",
      "execution_count": 7,
      "metadata": {
        "colab": {
          "base_uri": "https://localhost:8080/"
        },
        "id": "Yv7vVLO1watU",
        "outputId": "b7cfdd45-48e6-46d6-e73c-59e6e29d6f85"
      },
      "outputs": [
        {
          "name": "stdout",
          "output_type": "stream",
          "text": [
            "[\n",
            "  {\n",
            "    \"assignments\": [\n",
            "      {\n",
            "        \"assignment\": \"Complete practice questions on descriptive statistics\",\n",
            "        \"assignmentType\": \"Practice\",\n",
            "        \"description\": \"Solve 15 questions related to mean, median, mode, variance, and standard deviation.\",\n",
            "        \"time\": \"1 hour\"\n",
            "      }\n",
            "    ],\n",
            "    \"day\": \"Monday\",\n",
            "    \"tasks\": [\n",
            "      {\n",
            "        \"description\": \"Watch video lectures on descriptive statistics.\",\n",
            "        \"task\": \"Video Lecture\",\n",
            "        \"time\": \"2 hours\"\n",
            "      },\n",
            "      {\n",
            "        \"description\": \"Review key concepts and formulas.\",\n",
            "        \"task\": \"Revision\",\n",
            "        \"time\": \"1 hour\"\n",
            "      }\n",
            "    ],\n",
            "    \"topic\": \"Descriptive Statistics\"\n",
            "  },\n",
            "  {\n",
            "    \"assignments\": [\n",
            "      {\n",
            "        \"assignment\": \"Work through practice problems on probability distributions\",\n",
            "        \"assignmentType\": \"Practice\",\n",
            "        \"description\": \"Solve 15 questions on normal, binomial, and Poisson distributions.\",\n",
            "        \"time\": \"1 hour\"\n",
            "      }\n",
            "    ],\n",
            "    \"day\": \"Tuesday\",\n",
            "    \"tasks\": [\n",
            "      {\n",
            "        \"description\": \"Study video lectures on probability distributions.\",\n",
            "        \"task\": \"Video Lecture\",\n",
            "        \"time\": \"2 hours\"\n",
            "      },\n",
            "      {\n",
            "        \"description\": \"Solve example problems.\",\n",
            "        \"task\": \"Problem Solving\",\n",
            "        \"time\": \"1 hour\"\n",
            "      }\n",
            "    ],\n",
            "    \"topic\": \"Probability Distributions\"\n",
            "  },\n",
            "  {\n",
            "    \"assignments\": [\n",
            "      {\n",
            "        \"assignment\": \"Complete the assignment and submit it\",\n",
            "        \"assignmentType\": \"Graded\",\n",
            "        \"description\": \"Submit the assignment\",\n",
            "        \"time\": \"1 hour\"\n",
            "      }\n",
            "    ],\n",
            "    \"day\": \"Wednesday\",\n",
            "    \"tasks\": [\n",
            "      {\n",
            "        \"description\": \"Study video lectures on Inferential Statistics.\",\n",
            "        \"task\": \"Video Lecture\",\n",
            "        \"time\": \"2 hours\"\n",
            "      },\n",
            "      {\n",
            "        \"description\": \"Solve example problems and submit them.\",\n",
            "        \"task\": \"Problem Solving\",\n",
            "        \"time\": \"1 hour\"\n",
            "      }\n",
            "    ],\n",
            "    \"topic\": \"Inferential Statistics\"\n",
            "  },\n",
            "  {\n",
            "    \"assignments\": [\n",
            "      {\n",
            "        \"assignment\": \"Solve practice questions for linear regression\",\n",
            "        \"assignmentType\": \"Practice\",\n",
            "        \"description\": \"Solve 15 questions regarding Regression concepts.\",\n",
            "        \"time\": \"1 hour\"\n",
            "      }\n",
            "    ],\n",
            "    \"day\": \"Thursday\",\n",
            "    \"tasks\": [\n",
            "      {\n",
            "        \"description\": \"Study video lectures on Regression.\",\n",
            "        \"task\": \"Video Lecture\",\n",
            "        \"time\": \"2 hours\"\n",
            "      },\n",
            "      {\n",
            "        \"description\": \"Solve example problems.\",\n",
            "        \"task\": \"Problem Solving\",\n",
            "        \"time\": \"1 hour\"\n",
            "      }\n",
            "    ],\n",
            "    \"topic\": \"Regression\"\n",
            "  },\n",
            "  {\n",
            "    \"assignments\": [\n",
            "      {\n",
            "        \"assignment\": \"solve practice questions for hypothesis testing\",\n",
            "        \"assignmentType\": \"Practice\",\n",
            "        \"description\": \"Solve 15 questions regarding hypothesis testing\",\n",
            "        \"time\": \"1 hour\"\n",
            "      }\n",
            "    ],\n",
            "    \"day\": \"Friday\",\n",
            "    \"tasks\": [\n",
            "      {\n",
            "        \"description\": \"Study video lectures on hypothesis testing.\",\n",
            "        \"task\": \"Video Lecture\",\n",
            "        \"time\": \"2 hours\"\n",
            "      },\n",
            "      {\n",
            "        \"description\": \"Solve example problems.\",\n",
            "        \"task\": \"Problem Solving\",\n",
            "        \"time\": \"1 hour\"\n",
            "      }\n",
            "    ],\n",
            "    \"topic\": \"Hypothesis Testing\"\n",
            "  },\n",
            "  {\n",
            "    \"assignments\": [\n",
            "      {\n",
            "        \"assignment\": \"Review all topics covered during the week.\",\n",
            "        \"assignmentType\": \"Review\",\n",
            "        \"description\": \"Summarize key concepts and formulas.\",\n",
            "        \"time\": \"2 hours\"\n",
            "      }\n",
            "    ],\n",
            "    \"day\": \"Saturday\",\n",
            "    \"tasks\": [\n",
            "      {\n",
            "        \"description\": \"Practice GRE Quantitative Reasoning questions.\",\n",
            "        \"task\": \"Practice\",\n",
            "        \"time\": \"3 hours\"\n",
            "      },\n",
            "      {\n",
            "        \"description\": \"Solve practice questions.\",\n",
            "        \"task\": \"Problem Solving\",\n",
            "        \"time\": \"1 hours\"\n",
            "      }\n",
            "    ],\n",
            "    \"topic\": \"Weekly Review & GRE Practice\"\n",
            "  },\n",
            "  {\n",
            "    \"assignments\": [\n",
            "      {\n",
            "        \"assignment\": \"Take a mock GRE Quantitative Reasoning test.\",\n",
            "        \"assignmentType\": \"Mock Test\",\n",
            "        \"description\": \"Simulate the actual GRE test environment.\",\n",
            "        \"time\": \"3 hours\"\n",
            "      }\n",
            "    ],\n",
            "    \"day\": \"Sunday\",\n",
            "    \"tasks\": [\n",
            "      {\n",
            "        \"description\": \"Analyze mock test results and identify weak areas.\",\n",
            "        \"task\": \"Analysis\",\n",
            "        \"time\": \"2 hours\"\n",
            "      },\n",
            "      {\n",
            "        \"description\": \"Review concepts for areas of improvement.\",\n",
            "        \"task\": \"Revision\",\n",
            "        \"time\": \"1 hours\"\n",
            "      }\n",
            "    ],\n",
            "    \"topic\": \"Mock Test & Review\"\n",
            "  }\n",
            "]\n"
          ]
        }
      ],
      "source": [
        "print(response.text)"
      ]
    },
    {
      "cell_type": "code",
      "execution_count": 8,
      "metadata": {
        "id": "oPDRmLiXvBKz"
      },
      "outputs": [],
      "source": [
        "my_time_table: list[Timetable] = response.parsed"
      ]
    },
    {
      "cell_type": "code",
      "execution_count": 9,
      "metadata": {
        "colab": {
          "base_uri": "https://localhost:8080/"
        },
        "id": "XZh54_1TvEMD",
        "outputId": "5e0f5d4d-fb37-469a-9e57-1f106f648306"
      },
      "outputs": [
        {
          "name": "stdout",
          "output_type": "stream",
          "text": [
            "[Timetable(day='Monday', topic='Descriptive Statistics', tasks=[Task(task='Video Lecture', time='2 hours', description='Watch video lectures on descriptive statistics.'), Task(task='Revision', time='1 hour', description='Review key concepts and formulas.')], assignments=[Assignment(assignment='Complete practice questions on descriptive statistics', time='1 hour', assignmentType='Practice', description='Solve 15 questions related to mean, median, mode, variance, and standard deviation.')]), Timetable(day='Tuesday', topic='Probability Distributions', tasks=[Task(task='Video Lecture', time='2 hours', description='Study video lectures on probability distributions.'), Task(task='Problem Solving', time='1 hour', description='Solve example problems.')], assignments=[Assignment(assignment='Work through practice problems on probability distributions', time='1 hour', assignmentType='Practice', description='Solve 15 questions on normal, binomial, and Poisson distributions.')]), Timetable(day='Wednesday', topic='Inferential Statistics', tasks=[Task(task='Video Lecture', time='2 hours', description='Study video lectures on Inferential Statistics.'), Task(task='Problem Solving', time='1 hour', description='Solve example problems and submit them.')], assignments=[Assignment(assignment='Complete the assignment and submit it', time='1 hour', assignmentType='Graded', description='Submit the assignment')]), Timetable(day='Thursday', topic='Regression', tasks=[Task(task='Video Lecture', time='2 hours', description='Study video lectures on Regression.'), Task(task='Problem Solving', time='1 hour', description='Solve example problems.')], assignments=[Assignment(assignment='Solve practice questions for linear regression', time='1 hour', assignmentType='Practice', description='Solve 15 questions regarding Regression concepts.')]), Timetable(day='Friday', topic='Hypothesis Testing', tasks=[Task(task='Video Lecture', time='2 hours', description='Study video lectures on hypothesis testing.'), Task(task='Problem Solving', time='1 hour', description='Solve example problems.')], assignments=[Assignment(assignment='solve practice questions for hypothesis testing', time='1 hour', assignmentType='Practice', description='Solve 15 questions regarding hypothesis testing')]), Timetable(day='Saturday', topic='Weekly Review & GRE Practice', tasks=[Task(task='Practice', time='3 hours', description='Practice GRE Quantitative Reasoning questions.'), Task(task='Problem Solving', time='1 hours', description='Solve practice questions.')], assignments=[Assignment(assignment='Review all topics covered during the week.', time='2 hours', assignmentType='Review', description='Summarize key concepts and formulas.')]), Timetable(day='Sunday', topic='Mock Test & Review', tasks=[Task(task='Analysis', time='2 hours', description='Analyze mock test results and identify weak areas.'), Task(task='Revision', time='1 hours', description='Review concepts for areas of improvement.')], assignments=[Assignment(assignment='Take a mock GRE Quantitative Reasoning test.', time='3 hours', assignmentType='Mock Test', description='Simulate the actual GRE test environment.')])]\n"
          ]
        }
      ],
      "source": [
        "print(my_time_table)"
      ]
    },
    {
      "cell_type": "code",
      "execution_count": 10,
      "metadata": {
        "colab": {
          "base_uri": "https://localhost:8080/"
        },
        "id": "mLZcy-7AvPRj",
        "outputId": "4ec590a9-a97b-4335-aee3-f75030ffb117"
      },
      "outputs": [
        {
          "name": "stdout",
          "output_type": "stream",
          "text": [
            "[{'day': 'Monday', 'topic': 'Descriptive Statistics', 'tasks': [Task(task='Video Lecture', time='2 hours', description='Watch video lectures on descriptive statistics.'), Task(task='Revision', time='1 hour', description='Review key concepts and formulas.')], 'assignments': [Assignment(assignment='Complete practice questions on descriptive statistics', time='1 hour', assignmentType='Practice', description='Solve 15 questions related to mean, median, mode, variance, and standard deviation.')]}, {'day': 'Tuesday', 'topic': 'Probability Distributions', 'tasks': [Task(task='Video Lecture', time='2 hours', description='Study video lectures on probability distributions.'), Task(task='Problem Solving', time='1 hour', description='Solve example problems.')], 'assignments': [Assignment(assignment='Work through practice problems on probability distributions', time='1 hour', assignmentType='Practice', description='Solve 15 questions on normal, binomial, and Poisson distributions.')]}, {'day': 'Wednesday', 'topic': 'Inferential Statistics', 'tasks': [Task(task='Video Lecture', time='2 hours', description='Study video lectures on Inferential Statistics.'), Task(task='Problem Solving', time='1 hour', description='Solve example problems and submit them.')], 'assignments': [Assignment(assignment='Complete the assignment and submit it', time='1 hour', assignmentType='Graded', description='Submit the assignment')]}, {'day': 'Thursday', 'topic': 'Regression', 'tasks': [Task(task='Video Lecture', time='2 hours', description='Study video lectures on Regression.'), Task(task='Problem Solving', time='1 hour', description='Solve example problems.')], 'assignments': [Assignment(assignment='Solve practice questions for linear regression', time='1 hour', assignmentType='Practice', description='Solve 15 questions regarding Regression concepts.')]}, {'day': 'Friday', 'topic': 'Hypothesis Testing', 'tasks': [Task(task='Video Lecture', time='2 hours', description='Study video lectures on hypothesis testing.'), Task(task='Problem Solving', time='1 hour', description='Solve example problems.')], 'assignments': [Assignment(assignment='solve practice questions for hypothesis testing', time='1 hour', assignmentType='Practice', description='Solve 15 questions regarding hypothesis testing')]}, {'day': 'Saturday', 'topic': 'Weekly Review & GRE Practice', 'tasks': [Task(task='Practice', time='3 hours', description='Practice GRE Quantitative Reasoning questions.'), Task(task='Problem Solving', time='1 hours', description='Solve practice questions.')], 'assignments': [Assignment(assignment='Review all topics covered during the week.', time='2 hours', assignmentType='Review', description='Summarize key concepts and formulas.')]}, {'day': 'Sunday', 'topic': 'Mock Test & Review', 'tasks': [Task(task='Analysis', time='2 hours', description='Analyze mock test results and identify weak areas.'), Task(task='Revision', time='1 hours', description='Review concepts for areas of improvement.')], 'assignments': [Assignment(assignment='Take a mock GRE Quantitative Reasoning test.', time='3 hours', assignmentType='Mock Test', description='Simulate the actual GRE test environment.')]}]\n"
          ]
        }
      ],
      "source": [
        "print([timetable.__dict__ for timetable in my_time_table])"
      ]
    },
    {
      "cell_type": "code",
      "execution_count": 12,
      "metadata": {
        "colab": {
          "base_uri": "https://localhost:8080/"
        },
        "id": "-TQi7Npc8pyR",
        "outputId": "615d593e-83b7-419d-c1c7-2610b0c8a9d9"
      },
      "outputs": [
        {
          "name": "stdout",
          "output_type": "stream",
          "text": [
            "[Task(task='Video Lecture', time='2 hours', description='Watch video lectures on descriptive statistics.'), Task(task='Revision', time='1 hour', description='Review key concepts and formulas.')]\n",
            "[Assignment(assignment='Complete practice questions on descriptive statistics', time='1 hour', assignmentType='Practice', description='Solve 15 questions related to mean, median, mode, variance, and standard deviation.')]\n"
          ]
        }
      ],
      "source": [
        "json_parsed_layer1 = [timetable.__dict__ for timetable in my_time_table]\n",
        "print(json_parsed_layer1[0]['tasks'])\n",
        "print(json_parsed_layer1[0]['assignments'])"
      ]
    },
    {
      "cell_type": "code",
      "execution_count": null,
      "metadata": {
        "id": "OF6fub6m9AKR"
      },
      "outputs": [],
      "source": []
    }
  ],
  "metadata": {
    "colab": {
      "provenance": []
    },
    "kernelspec": {
      "display_name": "Python 3",
      "name": "python3"
    },
    "language_info": {
      "name": "python"
    }
  },
  "nbformat": 4,
  "nbformat_minor": 0
}
